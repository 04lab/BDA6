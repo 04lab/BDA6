{
  "cells": [
    {
      "cell_type": "code",
      "execution_count": 4,
      "metadata": {
        "id": "bCQ-zpjWfhM6"
      },
      "outputs": [],
      "source": [
        "from pyspark.sql import SparkSession\n"
      ]
    },
    {
      "cell_type": "code",
      "execution_count": 5,
      "metadata": {
        "id": "fOOlzkpfgkbC"
      },
      "outputs": [],
      "source": [
        "spark = SparkSession.builder.appName(\"MovieRatingsAnalysis\").getOrCreate()"
      ]
    },
    {
      "cell_type": "code",
      "execution_count": 6,
      "metadata": {
        "id": "gNaIbHkZg5JY"
      },
      "outputs": [],
      "source": [
        "movies_df = spark.read.csv(\"/content/movies.csv\",\n",
        "header=True, inferSchema=True)\n",
        "ratings_df = spark.read.csv(\"/content/ratings.csv\",\n",
        "header=True, inferSchema=True)"
      ]
    },
    {
      "cell_type": "code",
      "execution_count": 21,
      "metadata": {
        "id": "G5CyeAPFhqv5"
      },
      "outputs": [],
      "source": [
        "movies_rdd = movies_df.rdd\n",
        "ratings_rdd = ratings_df.rdd"
      ]
    },
    {
      "cell_type": "markdown",
      "metadata": {
        "id": "hMTjeiYeiku4"
      },
      "source": [
        "#a) Find the Movie with the Lowest Average Rating Using RDD."
      ]
    },
    {
      "cell_type": "code",
      "execution_count": 8,
      "metadata": {
        "id": "ZsmenFgwh0QC"
      },
      "outputs": [],
      "source": [
        "avg_ratings_rdd = ratings_rdd.map(lambda x: (x['movieId'], (x['rating'], 1))) \\\n",
        " .reduceByKey(lambda x, y: (x[0] + y[0], x[1] + y[1])) \\\n",
        " .mapValues(lambda x: x[0] / x[1])"
      ]
    },
    {
      "cell_type": "code",
      "execution_count": 9,
      "metadata": {
        "colab": {
          "base_uri": "https://localhost:8080/"
        },
        "id": "00RoX2k2h3se",
        "outputId": "c687f34d-d477-437f-b546-5a8c69ec9b54"
      },
      "outputs": [
        {
          "name": "stdout",
          "output_type": "stream",
          "text": [
            "Movie with the lowest average rating: (97024, 0.5)\n"
          ]
        }
      ],
      "source": [
        "lowest_avg_rating = avg_ratings_rdd.sortBy(lambda x: x[1]).first()\n",
        "print(f\"Movie with the lowest average rating: {lowest_avg_rating}\")\n"
      ]
    },
    {
      "cell_type": "markdown",
      "metadata": {
        "id": "xGGnx8CeiuDV"
      },
      "source": [
        "#b) Identify Users Who Have Rated the Most Movies."
      ]
    },
    {
      "cell_type": "code",
      "execution_count": 10,
      "metadata": {
        "id": "y4UM5Ds4izav"
      },
      "outputs": [],
      "source": [
        "user_ratings_count = ratings_rdd.map(lambda x: (x['userId'], 1)) \\\n",
        " .reduceByKey(lambda x, y: x + y) \\\n",
        " .sortBy(lambda x: x[1], ascending=False)"
      ]
    },
    {
      "cell_type": "code",
      "execution_count": 11,
      "metadata": {
        "colab": {
          "base_uri": "https://localhost:8080/"
        },
        "id": "cP6WzVawi2cl",
        "outputId": "beafa922-1402-4500-8d7f-03839261c5f0"
      },
      "outputs": [
        {
          "name": "stdout",
          "output_type": "stream",
          "text": [
            "Top users by number of ratings: [(414, 2698), (599, 2478), (474, 2108), (448, 1864), (274, 1346), (610, 1302), (68, 1260), (380, 1218), (606, 1115), (288, 1055)]\n"
          ]
        }
      ],
      "source": [
        "top_users = user_ratings_count.take(10)\n",
        "print(f\"Top users by number of ratings: {top_users}\")"
      ]
    },
    {
      "cell_type": "markdown",
      "metadata": {
        "id": "e3Qkw8QSi5sR"
      },
      "source": [
        "#c) Explore the Distribution of Ratings Over Time."
      ]
    },
    {
      "cell_type": "code",
      "execution_count": 12,
      "metadata": {
        "id": "O8wERcmIi8Gz"
      },
      "outputs": [],
      "source": [
        "from pyspark.sql.functions import from_unixtime, year, month"
      ]
    },
    {
      "cell_type": "code",
      "execution_count": 13,
      "metadata": {
        "id": "p7J2HD0EjC-6"
      },
      "outputs": [],
      "source": [
        "ratings_df = ratings_df.withColumn(\"year\", year(from_unixtime(ratings_df['timestamp']))) \\\n",
        " .withColumn(\"month\", month(from_unixtime(ratings_df['timestamp'])))"
      ]
    },
    {
      "cell_type": "code",
      "execution_count": 14,
      "metadata": {
        "id": "OuMirODWjKEQ"
      },
      "outputs": [],
      "source": [
        "ratings_over_time = ratings_df.groupBy(\"year\", \"month\").count().orderBy(\"year\", \"month\")"
      ]
    },
    {
      "cell_type": "code",
      "execution_count": 15,
      "metadata": {
        "colab": {
          "base_uri": "https://localhost:8080/"
        },
        "id": "m59EVG3JjODr",
        "outputId": "3cca7be4-ec88-4221-c69a-68eefcc86d84"
      },
      "outputs": [
        {
          "name": "stdout",
          "output_type": "stream",
          "text": [
            "+----+-----+-----+\n",
            "|year|month|count|\n",
            "+----+-----+-----+\n",
            "|1996|    3|   58|\n",
            "|1996|    4|  165|\n",
            "|1996|    5|  832|\n",
            "|1996|    6|  883|\n",
            "|1996|    7|  489|\n",
            "|1996|    8| 1010|\n",
            "|1996|    9|  384|\n",
            "|1996|   10|  935|\n",
            "|1996|   11|  978|\n",
            "|1996|   12|  306|\n",
            "|1997|    1|  250|\n",
            "|1997|    2|  323|\n",
            "|1997|    3|  398|\n",
            "|1997|    4|  219|\n",
            "|1997|    5|  303|\n",
            "|1997|    6|   84|\n",
            "|1997|    7|   70|\n",
            "|1997|    9|  236|\n",
            "|1997|   10|    1|\n",
            "|1997|   11|    4|\n",
            "+----+-----+-----+\n",
            "only showing top 20 rows\n",
            "\n"
          ]
        }
      ],
      "source": [
        "ratings_over_time.show()"
      ]
    },
    {
      "cell_type": "markdown",
      "metadata": {
        "id": "hyQXgtS7jO7L"
      },
      "source": [
        "#d) Find the Highest-Rated Movies with a Minimum Number of Ratings."
      ]
    },
    {
      "cell_type": "code",
      "execution_count": 16,
      "metadata": {
        "id": "qHq_pT6YjRqy"
      },
      "outputs": [],
      "source": [
        "movie_ratings_stats = ratings_rdd.map(lambda x: (x['movieId'], (x['rating'], 1))) \\\n",
        " .reduceByKey(lambda x, y: (x[0] + y[0], x[1] + y[1])) \\\n",
        " .mapValues(lambda x: (x[0] / x[1], x[1])) # (avg_rating, count)"
      ]
    },
    {
      "cell_type": "code",
      "execution_count": 17,
      "metadata": {
        "id": "e1rlyLcXjUpt"
      },
      "outputs": [],
      "source": [
        "min_ratings = 100\n",
        "qualified_movies = movie_ratings_stats.filter(lambda x: x[1][1] >= min_ratings)"
      ]
    },
    {
      "cell_type": "code",
      "execution_count": 18,
      "metadata": {
        "colab": {
          "base_uri": "https://localhost:8080/"
        },
        "id": "cT21ICXtjXcC",
        "outputId": "b607b623-5952-450c-de9e-eed0b32de1fc"
      },
      "outputs": [
        {
          "name": "stdout",
          "output_type": "stream",
          "text": [
            "Highest-rated movies with at least 100 ratings: [(318, (4.429022082018927, 317)), (858, (4.2890625, 192)), (2959, (4.272935779816514, 218)), (1221, (4.25968992248062, 129)), (48516, (4.252336448598131, 107)), (1213, (4.25, 126)), (912, (4.24, 100)), (58559, (4.238255033557047, 149)), (50, (4.237745098039215, 204)), (1197, (4.232394366197183, 142))]\n"
          ]
        }
      ],
      "source": [
        "highest_rated_movies = qualified_movies.sortBy(lambda x: x[1][0], ascending=False).take(10)\n",
        "print(f\"Highest-rated movies with at least {min_ratings} ratings: {highest_rated_movies}\")"
      ]
    }
  ],
  "metadata": {
    "colab": {
      "provenance": []
    },
    "kernelspec": {
      "display_name": "Python 3",
      "name": "python3"
    },
    "language_info": {
      "name": "python"
    }
  },
  "nbformat": 4,
  "nbformat_minor": 0
}
